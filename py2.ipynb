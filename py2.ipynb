{
 "cells": [
  {
   "cell_type": "code",
   "execution_count": 1,
   "id": "2a4a79f6",
   "metadata": {},
   "outputs": [
    {
     "ename": "TypeError",
     "evalue": "can only concatenate str (not \"int\") to str",
     "output_type": "error",
     "traceback": [
      "\u001b[1;31m---------------------------------------------------------------------------\u001b[0m",
      "\u001b[1;31mTypeError\u001b[0m                                 Traceback (most recent call last)",
      "Cell \u001b[1;32mIn[1], line 3\u001b[0m\n\u001b[0;32m      1\u001b[0m g \u001b[38;5;241m=\u001b[39m \u001b[38;5;124m\"\u001b[39m\u001b[38;5;124maditya_sharma\u001b[39m\u001b[38;5;124m\"\u001b[39m\n\u001b[0;32m      2\u001b[0m f\u001b[38;5;241m=\u001b[39m \u001b[38;5;241m5\u001b[39m\n\u001b[1;32m----> 3\u001b[0m \u001b[43mg\u001b[49m\u001b[38;5;241;43m+\u001b[39;49m\u001b[43mf\u001b[49m\n",
      "\u001b[1;31mTypeError\u001b[0m: can only concatenate str (not \"int\") to str"
     ]
    }
   ],
   "source": [
    "# g = \"aditya_sharma\"\n",
    "# f= 5\n",
    "# g+f"
   ]
  },
  {
   "cell_type": "code",
   "execution_count": 1,
   "id": "a8882d1b",
   "metadata": {},
   "outputs": [],
   "source": [
    "# g = \"aditya_sharma\"\n",
    "# f= 5\n",
    "# g+str(f)\n"
   ]
  },
  {
   "cell_type": "code",
   "execution_count": 2,
   "id": "1d5e6496",
   "metadata": {},
   "outputs": [
    {
     "data": {
      "text/plain": [
       "int"
      ]
     },
     "execution_count": 2,
     "metadata": {},
     "output_type": "execute_result"
    }
   ],
   "source": [
    "g = 33\n",
    "type(g)"
   ]
  },
  {
   "cell_type": "code",
   "execution_count": 6,
   "id": "be817cc7",
   "metadata": {},
   "outputs": [
    {
     "data": {
      "text/plain": [
       "110.65"
      ]
     },
     "execution_count": 6,
     "metadata": {},
     "output_type": "execute_result"
    }
   ],
   "source": [
    "g = 77.65\n",
    "# int(g)\n",
    "f = 33\n",
    "g + f"
   ]
  },
  {
   "cell_type": "code",
   "execution_count": 7,
   "id": "6186e0d6",
   "metadata": {},
   "outputs": [
    {
     "data": {
      "text/plain": [
       "2"
      ]
     },
     "execution_count": 7,
     "metadata": {},
     "output_type": "execute_result"
    }
   ],
   "source": [
    "g = 1\n",
    "f = True\n",
    "g + f"
   ]
  },
  {
   "cell_type": "code",
   "execution_count": 11,
   "id": "5dc81911",
   "metadata": {},
   "outputs": [
    {
     "data": {
      "text/plain": [
       "'aditya_sharma True'"
      ]
     },
     "execution_count": 11,
     "metadata": {},
     "output_type": "execute_result"
    }
   ],
   "source": [
    "g = \"aditya_sharma \"\n",
    "f = True\n",
    "g +  str(f)"
   ]
  },
  {
   "cell_type": "code",
   "execution_count": 12,
   "id": "aa59ac37",
   "metadata": {},
   "outputs": [
    {
     "data": {
      "text/plain": [
       "21"
      ]
     },
     "execution_count": 12,
     "metadata": {},
     "output_type": "execute_result"
    }
   ],
   "source": [
    "y = \"aditya_sharma_kumar_shamr\"\n",
    "h = y.find('fuse')\n",
    "f = 22\n",
    "f + h"
   ]
  },
  {
   "cell_type": "code",
   "execution_count": 1,
   "id": "71b56223",
   "metadata": {},
   "outputs": [],
   "source": [
    "g 5 + 5j =\n",
    "p = 76\n",
    "f = h.imag + p"
   ]
  },
  {
   "cell_type": "code",
   "execution_count": 2,
   "id": "61a1f99b",
   "metadata": {},
   "outputs": [
    {
     "data": {
      "text/plain": [
       "complex"
      ]
     },
     "execution_count": 2,
     "metadata": {},
     "output_type": "execute_result"
    }
   ],
   "source": [
    "h = 5 + 5j\n",
    "type(h)"
   ]
  },
  {
   "cell_type": "code",
   "execution_count": 3,
   "id": "ea74c488",
   "metadata": {},
   "outputs": [
    {
     "data": {
      "text/plain": [
       "5.0"
      ]
     },
     "execution_count": 3,
     "metadata": {},
     "output_type": "execute_result"
    }
   ],
   "source": [
    "h.real"
   ]
  },
  {
   "cell_type": "code",
   "execution_count": 6,
   "id": "984bebeb",
   "metadata": {},
   "outputs": [
    {
     "data": {
      "text/plain": [
       "81.0"
      ]
     },
     "execution_count": 6,
     "metadata": {},
     "output_type": "execute_result"
    }
   ],
   "source": [
    "h = 76\n",
    "g  = 5 + 5j\n",
    "s = h + g.imag\n",
    "s"
   ]
  },
  {
   "cell_type": "code",
   "execution_count": 7,
   "id": "f35f2d6d",
   "metadata": {},
   "outputs": [
    {
     "name": "stdout",
     "output_type": "stream",
     "text": [
      "my age is {k},and my is {g}\n"
     ]
    }
   ],
   "source": [
    "g = \"aditya_sharma\"\n",
    "f = \"kumar\"\n",
    "k = 15\n",
    "print(\"my age is {k},and my is {g}\")"
   ]
  },
  {
   "cell_type": "code",
   "execution_count": 8,
   "id": "afdb0289",
   "metadata": {},
   "outputs": [
    {
     "data": {
      "text/plain": [
       "'ADITY_KUMAR_SHARMA'"
      ]
     },
     "execution_count": 8,
     "metadata": {},
     "output_type": "execute_result"
    }
   ],
   "source": [
    "yoyo = \"adity_kumar_sharma\"\n",
    "yoyo.upper()"
   ]
  },
  {
   "cell_type": "code",
   "execution_count": 9,
   "id": "31d4233b",
   "metadata": {},
   "outputs": [
    {
     "data": {
      "text/plain": [
       "'adity_kumar_sharma'"
      ]
     },
     "execution_count": 9,
     "metadata": {},
     "output_type": "execute_result"
    }
   ],
   "source": [
    "H ='ADITY_KUMAR_SHARMA'\n",
    "H.lower()"
   ]
  },
  {
   "cell_type": "code",
   "execution_count": 10,
   "id": "0b975dce",
   "metadata": {},
   "outputs": [
    {
     "data": {
      "text/plain": [
       "'Adity_kumar_sharma'"
      ]
     },
     "execution_count": 10,
     "metadata": {},
     "output_type": "execute_result"
    }
   ],
   "source": [
    "g = 'adity_kumar_sharma'\n",
    "g.capitalize()"
   ]
  },
  {
   "cell_type": "code",
   "execution_count": 11,
   "id": "f65973e8",
   "metadata": {},
   "outputs": [
    {
     "data": {
      "text/plain": [
       "'Adity_Kumar_Sharma'"
      ]
     },
     "execution_count": 11,
     "metadata": {},
     "output_type": "execute_result"
    }
   ],
   "source": [
    "g ='Adity_kumar_sharma'\n",
    "g.title()"
   ]
  },
  {
   "cell_type": "code",
   "execution_count": 14,
   "id": "6f44ee01",
   "metadata": {},
   "outputs": [
    {
     "data": {
      "text/plain": [
       "7"
      ]
     },
     "execution_count": 14,
     "metadata": {},
     "output_type": "execute_result"
    }
   ],
   "source": [
    "fuse = \"Aditya_Kumar_Sharma\"\n",
    "fuse.find(\"Kumar\")"
   ]
  },
  {
   "cell_type": "code",
   "execution_count": 15,
   "id": "27d6ecf4",
   "metadata": {},
   "outputs": [
    {
     "data": {
      "text/plain": [
       "19"
      ]
     },
     "execution_count": 15,
     "metadata": {},
     "output_type": "execute_result"
    }
   ],
   "source": [
    "len(fuse)"
   ]
  },
  {
   "cell_type": "code",
   "execution_count": 1,
   "id": "a86d6ad7",
   "metadata": {},
   "outputs": [
    {
     "data": {
      "text/plain": [
       "4"
      ]
     },
     "execution_count": 1,
     "metadata": {},
     "output_type": "execute_result"
    }
   ],
   "source": [
    "g = \"aditya_sharma\"\n",
    "g.count(\"a\")"
   ]
  },
  {
   "cell_type": "code",
   "execution_count": 2,
   "id": "2ef4cad9",
   "metadata": {},
   "outputs": [
    {
     "data": {
      "text/plain": [
       "'Aditya_sharma'"
      ]
     },
     "execution_count": 2,
     "metadata": {},
     "output_type": "execute_result"
    }
   ],
   "source": [
    "h = \"aditya_sharma\"\n",
    "h.capitalize()"
   ]
  },
  {
   "cell_type": "code",
   "execution_count": 1,
   "id": "24600e52",
   "metadata": {},
   "outputs": [
    {
     "data": {
      "text/plain": [
       "6"
      ]
     },
     "execution_count": 1,
     "metadata": {},
     "output_type": "execute_result"
    }
   ],
   "source": [
    "p = \"aditya_kumar_sharma\"\n",
    "p.count(\"k\")\n",
    "p.find(\"_\")\n",
    "# len(p)\n",
    "# p.upper()\n",
    "# p.lower()\n",
    "# p.capitalize()\n",
    "# p.title()\n"
   ]
  },
  {
   "cell_type": "code",
   "execution_count": 10,
   "id": "8592c37c",
   "metadata": {},
   "outputs": [
    {
     "name": "stdout",
     "output_type": "stream",
     "text": [
      "my name is aditya sharma\n"
     ]
    }
   ],
   "source": [
    "print(\"my name is aditya sharma\")"
   ]
  },
  {
   "cell_type": "code",
   "execution_count": 11,
   "id": "550a8f48",
   "metadata": {},
   "outputs": [
    {
     "ename": "SyntaxError",
     "evalue": "unterminated string literal (detected at line 1) (2987848205.py, line 1)",
     "output_type": "error",
     "traceback": [
      "\u001b[1;36m  Cell \u001b[1;32mIn[11], line 1\u001b[1;36m\u001b[0m\n\u001b[1;33m    print(\"my name isn\"t the aditya\")\u001b[0m\n\u001b[1;37m                                   ^\u001b[0m\n\u001b[1;31mSyntaxError\u001b[0m\u001b[1;31m:\u001b[0m unterminated string literal (detected at line 1)\n"
     ]
    }
   ],
   "source": [
    "print(\"my name isn\"t the aditya\")"
   ]
  },
  {
   "cell_type": "code",
   "execution_count": 12,
   "id": "66c83a40",
   "metadata": {},
   "outputs": [
    {
     "name": "stdout",
     "output_type": "stream",
     "text": [
      "my name isn't the aditya\n"
     ]
    }
   ],
   "source": [
    "print(\"my name isn't the aditya\")"
   ]
  },
  {
   "cell_type": "code",
   "execution_count": 13,
   "id": "ddb9648e",
   "metadata": {},
   "outputs": [
    {
     "data": {
      "text/plain": [
       "13"
      ]
     },
     "execution_count": 13,
     "metadata": {},
     "output_type": "execute_result"
    }
   ],
   "source": [
    "# g = \"aditya_sharma\"\n",
    "# f = g.count(\"f\")\n",
    "# t = len(g)\n",
    "# h = f + t\n",
    "# h"
   ]
  },
  {
   "cell_type": "code",
   "execution_count": 14,
   "id": "ca17facb",
   "metadata": {},
   "outputs": [
    {
     "data": {
      "text/plain": [
       "12"
      ]
     },
     "execution_count": 14,
     "metadata": {},
     "output_type": "execute_result"
    }
   ],
   "source": [
    "g = \"aditya_sharma\"\n",
    "f = g.count(\"f\")\n",
    "v = g.find(\"k\")\n",
    "t = len(g)\n",
    "h = f + t + v\n",
    "h"
   ]
  },
  {
   "cell_type": "code",
   "execution_count": 15,
   "id": "b6e40766",
   "metadata": {},
   "outputs": [
    {
     "data": {
      "text/plain": [
       "'yi'"
      ]
     },
     "execution_count": 15,
     "metadata": {},
     "output_type": "execute_result"
    }
   ],
   "source": [
    "g = \"aditya_sharma\"\n",
    "# f = g.count(\"f\")\n",
    "# t = len(g)\n",
    "# h = f + t\n",
    "# h\n",
    "g[4:0:-2]"
   ]
  },
  {
   "cell_type": "code",
   "execution_count": null,
   "id": "01a13c08",
   "metadata": {},
   "outputs": [],
   "source": []
  }
 ],
 "metadata": {
  "kernelspec": {
   "display_name": "Python 3 (ipykernel)",
   "language": "python",
   "name": "python3"
  },
  "language_info": {
   "codemirror_mode": {
    "name": "ipython",
    "version": 3
   },
   "file_extension": ".py",
   "mimetype": "text/x-python",
   "name": "python",
   "nbconvert_exporter": "python",
   "pygments_lexer": "ipython3",
   "version": "3.11.2"
  }
 },
 "nbformat": 4,
 "nbformat_minor": 5
}
